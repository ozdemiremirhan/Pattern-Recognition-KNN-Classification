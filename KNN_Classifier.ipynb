{
  "nbformat": 4,
  "nbformat_minor": 0,
  "metadata": {
    "colab": {
      "provenance": []
    },
    "kernelspec": {
      "name": "python3",
      "display_name": "Python 3"
    },
    "language_info": {
      "name": "python"
    }
  },
  "cells": [
    {
      "cell_type": "code",
      "execution_count": null,
      "metadata": {
        "id": "aReU7Rx5ADvh"
      },
      "outputs": [],
      "source": [
        "from keras.datasets import cifar10\n",
        "\n",
        "(x_train, y_train), (x_test, y_test) = cifar10.load_data()\n"
      ]
    },
    {
      "cell_type": "code",
      "source": [
        "x_train = x_train.reshape(-1, 3072)\n",
        "x_test = x_test.reshape(-1, 3072)\n"
      ],
      "metadata": {
        "id": "_bVRyCPNARyF"
      },
      "execution_count": null,
      "outputs": []
    },
    {
      "cell_type": "code",
      "source": [
        "import numpy as np\n",
        "\n",
        "def custom_similarity(x, y):\n",
        "    return np.exp(np.dot(x, y.T)) / (np.exp(np.sum(x)) + np.exp(np.sum(y)))\n",
        "\n",
        "def knn_custom_similarity(x_train, y_train, sample_test, k):\n",
        "    similarities = []\n",
        "    for i in range(len(x_train)):\n",
        "        sim = custom_similarity(sample_test, x_train[i])\n",
        "        similarities.append((sim, y_train[i]))\n",
        "    similarities.sort(reverse=True)\n",
        "    top_k = similarities[:k]\n",
        "    classes = [pair[1] for pair in top_k]\n",
        "    most_common_class = max(classes, key=classes.count)\n",
        "    return most_common_class\n",
        "\n",
        "# Rastgele bir index seç\n",
        "random_index = np.random.randint(0, len(x_test)) # 0 ile 9999 arası bir sayı üretir\n",
        "# Rastgele seçilen indekse göre test vektörünü al\n",
        "sample_test = x_test[random_index]\n",
        "k = 5\n",
        "# Sinıflandirma fonksiyonunu çağırarak tahmini sinıfı al\n",
        "predicted_class = int(knn_custom_similarity(x_train, y_train, sample_test, k))  # Convert to integer\n",
        "print(f\"Predicted class for index {random_index}: {predicted_class}\")\n",
        "\n",
        "# Sinıf isimlerinin listesi\n",
        "class_names = [\"airplane\", \"automobile\", \"bird\", \"cat\", \"deer\", \"dog\", \"frog\", \"horse\", \"ship\", \"truck\"]\n",
        "# Tahmin edilen sinıf etiketini sinıfın ismine çevir\n",
        "predicted_class_name = class_names[predicted_class]\n",
        "# Sonuçu yazdır\n",
        "\n",
        "print(f\"\\nPredicted class name for index {random_index}: {predicted_class_name}\")\n"
      ],
      "metadata": {
        "colab": {
          "base_uri": "https://localhost:8080/"
        },
        "id": "he5AyrWHAUAh",
        "outputId": "c7cac37e-688d-4aaa-b7e2-a5fbf63f5f2c"
      },
      "execution_count": null,
      "outputs": [
        {
          "output_type": "stream",
          "name": "stderr",
          "text": [
            "<ipython-input-11-9383372b6cea>:4: RuntimeWarning: overflow encountered in exp\n",
            "  return np.exp(np.dot(x, y.T)) / (np.exp(np.sum(x)) + np.exp(np.sum(y)))\n",
            "<ipython-input-11-9383372b6cea>:4: RuntimeWarning: invalid value encountered in scalar divide\n",
            "  return np.exp(np.dot(x, y.T)) / (np.exp(np.sum(x)) + np.exp(np.sum(y)))\n"
          ]
        },
        {
          "output_type": "stream",
          "name": "stdout",
          "text": [
            "Predicted class for index 612: 9\n",
            "\n",
            "Predicted class name for index 612: truck\n"
          ]
        },
        {
          "output_type": "stream",
          "name": "stderr",
          "text": [
            "<ipython-input-11-9383372b6cea>:23: DeprecationWarning: Conversion of an array with ndim > 0 to a scalar is deprecated, and will error in future. Ensure you extract a single element from your array before performing this operation. (Deprecated NumPy 1.25.)\n",
            "  predicted_class = int(knn_custom_similarity(x_train, y_train, sample_test, k))  # Convert to integer\n"
          ]
        }
      ]
    },
    {
      "cell_type": "code",
      "source": [
        "sample_test = x_test[0,:]\n",
        "k = 1\n",
        "similar_class_name = int(knn_custom_similarity(x_train, y_train, sample_test, k))\n",
        "print(\"\\n\",similar_class_name)\n",
        "predicted_class_name = class_names[similar_class_name]\n",
        "print(f\"\\nPredicted class: {predicted_class_name}\\n\")\n"
      ],
      "metadata": {
        "colab": {
          "base_uri": "https://localhost:8080/"
        },
        "id": "j5iTho81AXJ3",
        "outputId": "012d99df-aacd-4476-cf2a-35b2fd52e34d"
      },
      "execution_count": null,
      "outputs": [
        {
          "output_type": "stream",
          "name": "stderr",
          "text": [
            "<ipython-input-11-9383372b6cea>:4: RuntimeWarning: overflow encountered in exp\n",
            "  return np.exp(np.dot(x, y.T)) / (np.exp(np.sum(x)) + np.exp(np.sum(y)))\n",
            "<ipython-input-11-9383372b6cea>:4: RuntimeWarning: invalid value encountered in scalar divide\n",
            "  return np.exp(np.dot(x, y.T)) / (np.exp(np.sum(x)) + np.exp(np.sum(y)))\n"
          ]
        },
        {
          "output_type": "stream",
          "name": "stdout",
          "text": [
            "\n",
            " 6\n",
            "\n",
            "Predicted class: frog\n",
            "\n"
          ]
        },
        {
          "output_type": "stream",
          "name": "stderr",
          "text": [
            "<ipython-input-12-16b038b5df6e>:3: DeprecationWarning: Conversion of an array with ndim > 0 to a scalar is deprecated, and will error in future. Ensure you extract a single element from your array before performing this operation. (Deprecated NumPy 1.25.)\n",
            "  similar_class_name = int(knn_custom_similarity(x_train, y_train, sample_test, k))\n"
          ]
        }
      ]
    }
  ]
}